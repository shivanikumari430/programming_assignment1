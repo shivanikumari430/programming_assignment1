{
 "cells": [
  {
   "cell_type": "code",
   "execution_count": 1,
   "id": "76814b1d",
   "metadata": {},
   "outputs": [],
   "source": [
    "#1.\tWrite a Python program to print \"Hello Python\"?\n",
    "#2.\tWrite a Python program to do arithmetical operations addition and division.?\n",
    "#3.\tWrite a Python program to find the area of a triangle?\n",
    "#4.\tWrite a Python program to swap two variables?\n",
    "#5.\tWrite a Python program to generate a random number?\n"
   ]
  },
  {
   "cell_type": "code",
   "execution_count": 2,
   "id": "448e89cf",
   "metadata": {},
   "outputs": [
    {
     "name": "stdout",
     "output_type": "stream",
     "text": [
      "Hello Python\n"
     ]
    }
   ],
   "source": [
    "#1.\tWrite a Python program to print \"Hello Python\"?\n",
    "print(\"Hello Python\")"
   ]
  },
  {
   "cell_type": "code",
   "execution_count": 5,
   "id": "a8481b44",
   "metadata": {},
   "outputs": [
    {
     "name": "stdout",
     "output_type": "stream",
     "text": [
      "enter a number a3\n",
      "enter a number b4\n",
      "7\n",
      "0.75\n"
     ]
    }
   ],
   "source": [
    "#2.\tWrite a Python program to do arithmetical operations addition and division.?\n",
    "a=int(input(\"enter a number a\"))\n",
    "b=int(input(\"enter a number b\"))\n",
    "print(a+b)\n",
    "print(a/b)"
   ]
  },
  {
   "cell_type": "code",
   "execution_count": 12,
   "id": "c7b19850",
   "metadata": {},
   "outputs": [
    {
     "name": "stdout",
     "output_type": "stream",
     "text": [
      "enter the length of a triangle4\n",
      "enter the breadth of a triangle6\n",
      "area of triangle is 6.0\n"
     ]
    }
   ],
   "source": [
    "#3.\tWrite a Python program to find the area of a triangle?\n",
    "def triangle(l,b):\n",
    "    area=(1/2)*l*b\n",
    "    return(area)\n",
    "l=int(input(\"enter the length of a triangle\"))\n",
    "b=int(input(\"enter the breadth of a triangle\"))\n",
    "print(\"area of triangle is\", triangle(3,4))"
   ]
  },
  {
   "cell_type": "code",
   "execution_count": 19,
   "id": "f10e7b5b",
   "metadata": {},
   "outputs": [
    {
     "name": "stdout",
     "output_type": "stream",
     "text": [
      "enter a number a4\n",
      "enter a number b5\n",
      "numbers before swappping is (4, 5)\n",
      "numbers before swappping is (5, 4)\n"
     ]
    }
   ],
   "source": [
    "#4.\tWrite a Python program to swap two variables?\n",
    "t=0\n",
    "def swap(a,b):\n",
    "    t=a\n",
    "    a=b\n",
    "    b=t\n",
    "    return(a,b)\n",
    "a=int(input(\"enter a number a\"))\n",
    "b=int(input(\"enter a number b\"))\n",
    "print(\"numbers before swappping is\",(a,b))\n",
    "print(\"numbers before swappping is\",swap(a,b))"
   ]
  },
  {
   "cell_type": "code",
   "execution_count": 21,
   "id": "fa2182af",
   "metadata": {},
   "outputs": [
    {
     "name": "stdout",
     "output_type": "stream",
     "text": [
      "enter a lower limit a3\n",
      "enter a upper limit b9\n"
     ]
    },
    {
     "data": {
      "text/plain": [
       "6"
      ]
     },
     "execution_count": 21,
     "metadata": {},
     "output_type": "execute_result"
    }
   ],
   "source": [
    "#5.\tWrite a Python program to generate a random number?\n",
    "#importing the random module\n",
    "import random\n",
    "a=int(input(\"enter a lower limit a\"))\n",
    "b=int(input(\"enter a upper limit b\"))\n",
    "random.randint(a,b)"
   ]
  },
  {
   "cell_type": "code",
   "execution_count": null,
   "id": "e082eff6",
   "metadata": {},
   "outputs": [],
   "source": []
  }
 ],
 "metadata": {
  "kernelspec": {
   "display_name": "Python 3 (ipykernel)",
   "language": "python",
   "name": "python3"
  },
  "language_info": {
   "codemirror_mode": {
    "name": "ipython",
    "version": 3
   },
   "file_extension": ".py",
   "mimetype": "text/x-python",
   "name": "python",
   "nbconvert_exporter": "python",
   "pygments_lexer": "ipython3",
   "version": "3.9.7"
  }
 },
 "nbformat": 4,
 "nbformat_minor": 5
}
